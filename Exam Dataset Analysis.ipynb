{
 "cells": [
  {
   "cell_type": "code",
   "execution_count": 59,
   "metadata": {},
   "outputs": [],
   "source": [
    "import numpy as np\n",
    "import pandas as pd"
   ]
  },
  {
   "cell_type": "code",
   "execution_count": 60,
   "metadata": {},
   "outputs": [],
   "source": [
    "\n",
    "exam_data={'name':['Anastasia','Dima','Katherine','James','Emily','Michael','Matthew','Laura','Kevin','Jonas'],\n",
    "           'score':[12.5, 9, 16.5, np.nan, 9, 20, 14.5, np.nan, 8, 19],\n",
    "           'attempts':[1, 3, 2, 3, 2, 3, 1, 1, 2, 1],\n",
    "           'qualify':['yes','no','yes','no','no','yes','yes','no','no','yes']\n",
    "}\n",
    "\n",
    "labels = ['a','b','c','d','e','f','g','h','i','j']"
   ]
  },
  {
   "cell_type": "code",
   "execution_count": 61,
   "metadata": {},
   "outputs": [
    {
     "name": "stdout",
     "output_type": "stream",
     "text": [
      "        name  score  attempts qualify\n",
      "a  Anastasia   12.5         1     yes\n",
      "b       Dima    9.0         3      no\n",
      "c  Katherine   16.5         2     yes\n",
      "d      James    NaN         3      no\n",
      "e      Emily    9.0         2      no\n",
      "f    Michael   20.0         3     yes\n",
      "g    Matthew   14.5         1     yes\n",
      "h      Laura    NaN         1      no\n",
      "i      Kevin    8.0         2      no\n",
      "j      Jonas   19.0         1     yes\n"
     ]
    }
   ],
   "source": [
    "# Write a Python program to create and display a DataFrame from a specified dictionary data which has the index labels.\n",
    "\n",
    "dataFrame = pd.DataFrame({'name':exam_data['name'],\n",
    "                         'score':exam_data['score'],\n",
    "                         'attempts':exam_data['attempts'],\n",
    "                         'qualify':exam_data['qualify']}, index=labels)\n",
    "\n",
    "print(dataFrame)"
   ]
  },
  {
   "cell_type": "code",
   "execution_count": 62,
   "metadata": {},
   "outputs": [
    {
     "name": "stdout",
     "output_type": "stream",
     "text": [
      "           score   attempts\n",
      "count   8.000000  10.000000\n",
      "mean   13.562500   1.900000\n",
      "std     4.693746   0.875595\n",
      "min     8.000000   1.000000\n",
      "25%     9.000000   1.000000\n",
      "50%    13.500000   2.000000\n",
      "75%    17.125000   2.750000\n",
      "max    20.000000   3.000000\n"
     ]
    }
   ],
   "source": [
    "# Write a Python program to display a summary of the basic information about a specified DataFrame and its data.\n",
    "\n",
    "print(dataFrame.describe())"
   ]
  },
  {
   "cell_type": "code",
   "execution_count": 63,
   "metadata": {},
   "outputs": [
    {
     "name": "stdout",
     "output_type": "stream",
     "text": [
      "        name  score  attempts qualify\n",
      "a  Anastasia   12.5         1     yes\n",
      "b       Dima    9.0         3      no\n",
      "c  Katherine   16.5         2     yes\n"
     ]
    }
   ],
   "source": [
    "# Write a Python program to get the first 3 rows of a given DataFrame.\n",
    "print(dataFrame.iloc[:3, :4])"
   ]
  },
  {
   "cell_type": "code",
   "execution_count": 64,
   "metadata": {},
   "outputs": [
    {
     "name": "stdout",
     "output_type": "stream",
     "text": [
      "a    Anastasia\n",
      "b         Dima\n",
      "c    Katherine\n",
      "d        James\n",
      "e        Emily\n",
      "f      Michael\n",
      "g      Matthew\n",
      "h        Laura\n",
      "i        Kevin\n",
      "j        Jonas\n",
      "Name: name, dtype: object\n",
      "a    12.5\n",
      "b     9.0\n",
      "c    16.5\n",
      "d     NaN\n",
      "e     9.0\n",
      "f    20.0\n",
      "g    14.5\n",
      "h     NaN\n",
      "i     8.0\n",
      "j    19.0\n",
      "Name: score, dtype: float64\n"
     ]
    }
   ],
   "source": [
    "# Write a Python program to select the 'name' and 'score' columns from the following DataFrame.\n",
    "\n",
    "print(dataFrame['name'])\n",
    "print(dataFrame['score'])"
   ]
  },
  {
   "cell_type": "code",
   "execution_count": 65,
   "metadata": {},
   "outputs": [
    {
     "ename": "ValueError",
     "evalue": "invalid literal for int() with base 10: ''",
     "output_type": "error",
     "traceback": [
      "\u001b[1;31m---------------------------------------------------------------------------\u001b[0m",
      "\u001b[1;31mValueError\u001b[0m                                Traceback (most recent call last)",
      "Cell \u001b[1;32mIn[65], line 2\u001b[0m\n\u001b[0;32m      1\u001b[0m \u001b[38;5;66;03m# Write a Python program to select the specified columns and rows from a given data frame. \u001b[39;00m\n\u001b[1;32m----> 2\u001b[0m inputColumnSize \u001b[38;5;241m=\u001b[39m \u001b[38;5;28;43mint\u001b[39;49m\u001b[43m(\u001b[49m\u001b[38;5;28;43minput\u001b[39;49m\u001b[43m(\u001b[49m\u001b[38;5;124;43m'\u001b[39;49m\u001b[38;5;124;43mEnter the number of columns to be selected: \u001b[39;49m\u001b[38;5;124;43m'\u001b[39;49m\u001b[43m)\u001b[49m\u001b[43m)\u001b[49m\n\u001b[0;32m      3\u001b[0m inputRowSize \u001b[38;5;241m=\u001b[39m \u001b[38;5;28mint\u001b[39m(\u001b[38;5;28minput\u001b[39m(\u001b[38;5;124m'\u001b[39m\u001b[38;5;124mEnter the number of rows to be selected: \u001b[39m\u001b[38;5;124m'\u001b[39m))\n\u001b[0;32m      4\u001b[0m inputColumn \u001b[38;5;241m=\u001b[39m []\n",
      "\u001b[1;31mValueError\u001b[0m: invalid literal for int() with base 10: ''"
     ]
    }
   ],
   "source": [
    "# Write a Python program to select the specified columns and rows from a given data frame. \n",
    "inputColumnSize = int(input('Enter the number of columns to be selected: '))\n",
    "inputRowSize = int(input('Enter the number of rows to be selected: '))\n",
    "inputColumn = []\n",
    "inputRow = []\n",
    "\n",
    "for i in range(inputColumnSize):\n",
    "    column = input('Enter the column name: ')\n",
    "    inputColumn.append(column)\n",
    "\n",
    "for i in range(inputRowSize):\n",
    "    row = input('Enter the index of row: ')\n",
    "    inputRow.append(row)\n",
    "\n",
    "print(dataFrame.loc[inputRow, inputColumn])\n"
   ]
  },
  {
   "cell_type": "code",
   "execution_count": 66,
   "metadata": {},
   "outputs": [
    {
     "name": "stdout",
     "output_type": "stream",
     "text": [
      "      name  score  attempts qualify\n",
      "b     Dima    9.0         3      no\n",
      "d    James    NaN         3      no\n",
      "f  Michael   20.0         3     yes\n"
     ]
    }
   ],
   "source": [
    "# Write a Python program to select the rows where the number of attempts in the examination is greater than 2.\n",
    "\n",
    "print(dataFrame[dataFrame['attempts'] > 2])"
   ]
  },
  {
   "cell_type": "code",
   "execution_count": 67,
   "metadata": {},
   "outputs": [
    {
     "name": "stdout",
     "output_type": "stream",
     "text": [
      "Number of rows:  10\n",
      "Number of cloumns:  4\n"
     ]
    }
   ],
   "source": [
    "# Write a Python program to count the number of rows and columns of a DataFrame. \n",
    "\n",
    "size = dataFrame.shape\n",
    "print(\"Number of rows: \", size[0])\n",
    "print(\"Number of cloumns: \", size[1])"
   ]
  },
  {
   "cell_type": "code",
   "execution_count": 68,
   "metadata": {},
   "outputs": [
    {
     "name": "stdout",
     "output_type": "stream",
     "text": [
      "    name  score  attempts qualify\n",
      "d  James    NaN         3      no\n",
      "h  Laura    NaN         1      no\n"
     ]
    }
   ],
   "source": [
    "# Write a Python program to select the rows where the score is missing, i.e. is NaN.  \n",
    "\n",
    "print(dataFrame[dataFrame['score'].isnull()])"
   ]
  },
  {
   "cell_type": "code",
   "execution_count": 69,
   "metadata": {},
   "outputs": [
    {
     "name": "stdout",
     "output_type": "stream",
     "text": [
      "        name  score  attempts qualify\n",
      "c  Katherine   16.5         2     yes\n",
      "f    Michael   20.0         3     yes\n",
      "j      Jonas   19.0         1     yes\n"
     ]
    }
   ],
   "source": [
    "# Write a Python program to select the rows the score is between 15 and 20 (inclusive).\n",
    "\n",
    "print(dataFrame[(dataFrame['score'] >= 15) & (dataFrame['score'] <= 20)])"
   ]
  },
  {
   "cell_type": "code",
   "execution_count": 70,
   "metadata": {},
   "outputs": [
    {
     "name": "stdout",
     "output_type": "stream",
     "text": [
      "      name  score  attempts qualify\n",
      "f  Michael   20.0         3     yes\n"
     ]
    }
   ],
   "source": [
    "# Write a Python program to select the rows where number of attempts in the examination is less than 2 and score greater than 15.\n",
    "\n",
    "print(dataFrame[(dataFrame['attempts'] > 2) & (dataFrame['score'] > 15)])"
   ]
  },
  {
   "cell_type": "code",
   "execution_count": 71,
   "metadata": {},
   "outputs": [
    {
     "name": "stdout",
     "output_type": "stream",
     "text": [
      "Before changing the value\n",
      "        name  score  attempts qualify\n",
      "a  Anastasia   12.5         1     yes\n",
      "b       Dima    9.0         3      no\n",
      "c  Katherine   16.5         2     yes\n",
      "d      James    NaN         3      no\n",
      "e      Emily    9.0         2      no\n",
      "f    Michael   20.0         3     yes\n",
      "g    Matthew   14.5         1     yes\n",
      "h      Laura    NaN         1      no\n",
      "i      Kevin    8.0         2      no\n",
      "j      Jonas   19.0         1     yes\n",
      "After changing the value\n",
      "        name  score  attempts qualify\n",
      "a  Anastasia   12.5         1     yes\n",
      "b       Dima    9.0         3      no\n",
      "c  Katherine   16.5         2     yes\n",
      "d      James   11.5         3      no\n",
      "e      Emily    9.0         2      no\n",
      "f    Michael   20.0         3     yes\n",
      "g    Matthew   14.5         1     yes\n",
      "h      Laura    NaN         1      no\n",
      "i      Kevin    8.0         2      no\n",
      "j      Jonas   19.0         1     yes\n"
     ]
    }
   ],
   "source": [
    "# Write a Python program to change the score in row 'd' to 11.5.\n",
    "\n",
    "print(\"Before changing the value\")\n",
    "print(dataFrame)\n",
    "dataFrame.loc['d', 'score'] = 11.5\n",
    "print(\"After changing the value\")\n",
    "print(dataFrame)"
   ]
  },
  {
   "cell_type": "code",
   "execution_count": 72,
   "metadata": {},
   "outputs": [
    {
     "name": "stdout",
     "output_type": "stream",
     "text": [
      "Sum of the examination attempts by students:  19\n"
     ]
    }
   ],
   "source": [
    "# Write a Python program to calculate the sum of the examination attempts by the students. \n",
    "\n",
    "attempts = dataFrame['attempts']\n",
    "print(\"Sum of the examination attempts by students: \", sum(attempts))"
   ]
  },
  {
   "cell_type": "code",
   "execution_count": null,
   "metadata": {},
   "outputs": [
    {
     "name": "stdout",
     "output_type": "stream",
     "text": [
      "The mean score of all students:  13.61111111111111\n"
     ]
    }
   ],
   "source": [
    "# Write a Python program to calculate the mean score for each different student in DataFrame. \n",
    "\n",
    "print(\"The mean score of all students: \", dataFrame['score'].mean())"
   ]
  },
  {
   "cell_type": "code",
   "execution_count": null,
   "metadata": {},
   "outputs": [
    {
     "name": "stdout",
     "output_type": "stream",
     "text": [
      "Dataframe after adding a new row: \n",
      "          name  score  attempts qualify\n",
      "a    Anastasia   12.5         1     yes\n",
      "b         Dima   11.5         3      no\n",
      "c    Katherine   16.5         2     yes\n",
      "d        James   11.5         3      no\n",
      "e        Emily    9.0         2      no\n",
      "f      Michael   20.0         3     yes\n",
      "g      Matthew   14.5         1     yes\n",
      "h        Laura    NaN         1      no\n",
      "i        Kevin    8.0         2      no\n",
      "j        Jonas   19.0         1     yes\n",
      "k  Bruce Wayne   15.0         2     yes\n",
      "Dataframe after removing the new row: \n",
      "        name  score  attempts qualify\n",
      "a  Anastasia   12.5         1     yes\n",
      "b       Dima   11.5         3      no\n",
      "c  Katherine   16.5         2     yes\n",
      "d      James   11.5         3      no\n",
      "e      Emily    9.0         2      no\n",
      "f    Michael   20.0         3     yes\n",
      "g    Matthew   14.5         1     yes\n",
      "h      Laura    NaN         1      no\n",
      "i      Kevin    8.0         2      no\n",
      "j      Jonas   19.0         1     yes\n"
     ]
    }
   ],
   "source": [
    "# Write a Python program to append a new row 'k' to data frame with given values for each column. Now delete the new row and return the original DataFrame.\n",
    "\n",
    "newRow = pd.DataFrame({'name': ['Bruce Wayne'],\n",
    "                      'score': [15.0],\n",
    "                      'attempts': [2],\n",
    "                      'qualify': ['yes']}, index = ['k'])\n",
    "dataFrame = pd.concat([dataFrame, newRow])\n",
    "\n",
    "print(\"Dataframe after adding a new row: \")\n",
    "print(dataFrame)\n",
    "\n",
    "dataFrame = dataFrame.drop('k')\n",
    "print(\"Dataframe after removing the new row: \")\n",
    "print(dataFrame)"
   ]
  },
  {
   "cell_type": "code",
   "execution_count": null,
   "metadata": {},
   "outputs": [
    {
     "name": "stdout",
     "output_type": "stream",
     "text": [
      "        name  score  attempts qualify\n",
      "i      Kevin    8.0         2      no\n",
      "e      Emily    9.0         2      no\n",
      "d      James   11.5         3      no\n",
      "b       Dima   11.5         3      no\n",
      "a  Anastasia   12.5         1     yes\n",
      "g    Matthew   14.5         1     yes\n",
      "c  Katherine   16.5         2     yes\n",
      "j      Jonas   19.0         1     yes\n",
      "f    Michael   20.0         3     yes\n",
      "h      Laura    NaN         1      no\n"
     ]
    }
   ],
   "source": [
    "# Write a Python program to sort the DataFrame first by 'name' in descending order, then by 'score' in ascending order. \n",
    "\n",
    "dataFrame = dataFrame.sort_values(by='name', ascending=False)\n",
    "dataFrame = dataFrame.sort_values(by='score')\n",
    "print(dataFrame)"
   ]
  },
  {
   "cell_type": "code",
   "execution_count": 73,
   "metadata": {},
   "outputs": [
    {
     "name": "stdout",
     "output_type": "stream",
     "text": [
      "        name  score  attempts  qualify\n",
      "a  Anastasia   12.5         1     True\n",
      "b       Dima    9.0         3    False\n",
      "c  Katherine   16.5         2     True\n",
      "d      James   11.5         3    False\n",
      "e      Emily    9.0         2    False\n",
      "f    Michael   20.0         3     True\n",
      "g    Matthew   14.5         1     True\n",
      "h      Laura    NaN         1    False\n",
      "i      Kevin    8.0         2    False\n",
      "j      Jonas   19.0         1     True\n"
     ]
    },
    {
     "name": "stderr",
     "output_type": "stream",
     "text": [
      "C:\\Users\\nssud\\AppData\\Local\\Temp\\ipykernel_30968\\672244514.py:3: FutureWarning: Downcasting behavior in `replace` is deprecated and will be removed in a future version. To retain the old behavior, explicitly call `result.infer_objects(copy=False)`. To opt-in to the future behavior, set `pd.set_option('future.no_silent_downcasting', True)`\n",
      "  dataFrame['qualify'] = dataFrame['qualify'].replace({'yes': True, 'no': False})\n"
     ]
    }
   ],
   "source": [
    "# Write a Python program to replace the 'qualify' column contains the values 'yes' and 'no' with True and False.\n",
    "\n",
    "dataFrame['qualify'] = dataFrame['qualify'].replace({'yes': True, 'no': False})\n",
    "dataFrame = dataFrame.sort_index()\n",
    "print(dataFrame)"
   ]
  },
  {
   "cell_type": "code",
   "execution_count": 76,
   "metadata": {},
   "outputs": [
    {
     "name": "stdout",
     "output_type": "stream",
     "text": [
      "        name  score  attempts  qualify\n",
      "a  Anastasia   12.5         1     True\n",
      "b       Dima    9.0         3    False\n",
      "c  Katherine   16.5         2     True\n",
      "d     Suresh   11.5         3    False\n",
      "e      Emily    9.0         2    False\n",
      "f    Michael   20.0         3     True\n",
      "g    Matthew   14.5         1     True\n",
      "h      Laura    NaN         1    False\n",
      "i      Kevin    8.0         2    False\n",
      "j      Jonas   19.0         1     True\n"
     ]
    }
   ],
   "source": [
    "# Write a Python program to change the name 'James' to 'Suresh' in name column of the DataFrame.\n",
    "\n",
    "dataFrame['name'] = dataFrame['name'].replace('James', 'Suresh')\n",
    "print(dataFrame)"
   ]
  },
  {
   "cell_type": "code",
   "execution_count": 77,
   "metadata": {},
   "outputs": [
    {
     "data": {
      "text/html": [
       "<div>\n",
       "<style scoped>\n",
       "    .dataframe tbody tr th:only-of-type {\n",
       "        vertical-align: middle;\n",
       "    }\n",
       "\n",
       "    .dataframe tbody tr th {\n",
       "        vertical-align: top;\n",
       "    }\n",
       "\n",
       "    .dataframe thead th {\n",
       "        text-align: right;\n",
       "    }\n",
       "</style>\n",
       "<table border=\"1\" class=\"dataframe\">\n",
       "  <thead>\n",
       "    <tr style=\"text-align: right;\">\n",
       "      <th></th>\n",
       "      <th>name</th>\n",
       "      <th>score</th>\n",
       "      <th>qualify</th>\n",
       "    </tr>\n",
       "  </thead>\n",
       "  <tbody>\n",
       "    <tr>\n",
       "      <th>a</th>\n",
       "      <td>Anastasia</td>\n",
       "      <td>12.5</td>\n",
       "      <td>True</td>\n",
       "    </tr>\n",
       "    <tr>\n",
       "      <th>b</th>\n",
       "      <td>Dima</td>\n",
       "      <td>9.0</td>\n",
       "      <td>False</td>\n",
       "    </tr>\n",
       "    <tr>\n",
       "      <th>c</th>\n",
       "      <td>Katherine</td>\n",
       "      <td>16.5</td>\n",
       "      <td>True</td>\n",
       "    </tr>\n",
       "    <tr>\n",
       "      <th>d</th>\n",
       "      <td>Suresh</td>\n",
       "      <td>11.5</td>\n",
       "      <td>False</td>\n",
       "    </tr>\n",
       "    <tr>\n",
       "      <th>e</th>\n",
       "      <td>Emily</td>\n",
       "      <td>9.0</td>\n",
       "      <td>False</td>\n",
       "    </tr>\n",
       "    <tr>\n",
       "      <th>f</th>\n",
       "      <td>Michael</td>\n",
       "      <td>20.0</td>\n",
       "      <td>True</td>\n",
       "    </tr>\n",
       "    <tr>\n",
       "      <th>g</th>\n",
       "      <td>Matthew</td>\n",
       "      <td>14.5</td>\n",
       "      <td>True</td>\n",
       "    </tr>\n",
       "    <tr>\n",
       "      <th>h</th>\n",
       "      <td>Laura</td>\n",
       "      <td>NaN</td>\n",
       "      <td>False</td>\n",
       "    </tr>\n",
       "    <tr>\n",
       "      <th>i</th>\n",
       "      <td>Kevin</td>\n",
       "      <td>8.0</td>\n",
       "      <td>False</td>\n",
       "    </tr>\n",
       "    <tr>\n",
       "      <th>j</th>\n",
       "      <td>Jonas</td>\n",
       "      <td>19.0</td>\n",
       "      <td>True</td>\n",
       "    </tr>\n",
       "  </tbody>\n",
       "</table>\n",
       "</div>"
      ],
      "text/plain": [
       "        name  score  qualify\n",
       "a  Anastasia   12.5     True\n",
       "b       Dima    9.0    False\n",
       "c  Katherine   16.5     True\n",
       "d     Suresh   11.5    False\n",
       "e      Emily    9.0    False\n",
       "f    Michael   20.0     True\n",
       "g    Matthew   14.5     True\n",
       "h      Laura    NaN    False\n",
       "i      Kevin    8.0    False\n",
       "j      Jonas   19.0     True"
      ]
     },
     "execution_count": 77,
     "metadata": {},
     "output_type": "execute_result"
    }
   ],
   "source": [
    "# Write a Python program to delete the 'attempts' column from the DataFrame. \n",
    "\n",
    "dataFrame.drop('attempts', axis=1)"
   ]
  },
  {
   "cell_type": "code",
   "execution_count": 78,
   "metadata": {},
   "outputs": [
    {
     "name": "stdout",
     "output_type": "stream",
     "text": [
      "        name  score  attempts  qualify  age\n",
      "a  Anastasia   12.5         1     True   15\n",
      "b       Dima    9.0         3    False   16\n",
      "c  Katherine   16.5         2     True   14\n",
      "d     Suresh   11.5         3    False   15\n",
      "e      Emily    9.0         2    False   14\n",
      "f    Michael   20.0         3     True   14\n",
      "g    Matthew   14.5         1     True   16\n",
      "h      Laura    NaN         1    False   16\n",
      "i      Kevin    8.0         2    False   15\n",
      "j      Jonas   19.0         1     True   15\n"
     ]
    }
   ],
   "source": [
    "# Write a Python program to insert a new column in existing DataFrame. \n",
    "\n",
    "dataFrame['age'] = [15, 16, 14, 15, 14, 14, 16, 16, 15, 15]\n",
    "\n",
    "print(dataFrame)"
   ]
  },
  {
   "cell_type": "code",
   "execution_count": null,
   "metadata": {},
   "outputs": [
    {
     "name": "stdout",
     "output_type": "stream",
     "text": [
      "name        Anastasia\n",
      "score            12.5\n",
      "attempts            1\n",
      "qualify          True\n",
      "age                15\n",
      "Name: a, dtype: object\n",
      "---------------------------------------------\n",
      "name         Dima\n",
      "score         9.0\n",
      "attempts        3\n",
      "qualify     False\n",
      "age            16\n",
      "Name: b, dtype: object\n",
      "---------------------------------------------\n",
      "name        Katherine\n",
      "score            16.5\n",
      "attempts            2\n",
      "qualify          True\n",
      "age                14\n",
      "Name: c, dtype: object\n",
      "---------------------------------------------\n",
      "name        Suresh\n",
      "score         11.5\n",
      "attempts         3\n",
      "qualify      False\n",
      "age             15\n",
      "Name: d, dtype: object\n",
      "---------------------------------------------\n",
      "name        Emily\n",
      "score         9.0\n",
      "attempts        2\n",
      "qualify     False\n",
      "age            14\n",
      "Name: e, dtype: object\n",
      "---------------------------------------------\n",
      "name        Michael\n",
      "score          20.0\n",
      "attempts          3\n",
      "qualify        True\n",
      "age              14\n",
      "Name: f, dtype: object\n",
      "---------------------------------------------\n",
      "name        Matthew\n",
      "score          14.5\n",
      "attempts          1\n",
      "qualify        True\n",
      "age              16\n",
      "Name: g, dtype: object\n",
      "---------------------------------------------\n",
      "name        Laura\n",
      "score         NaN\n",
      "attempts        1\n",
      "qualify     False\n",
      "age            16\n",
      "Name: h, dtype: object\n",
      "---------------------------------------------\n",
      "name        Kevin\n",
      "score         8.0\n",
      "attempts        2\n",
      "qualify     False\n",
      "age            15\n",
      "Name: i, dtype: object\n",
      "---------------------------------------------\n",
      "name        Jonas\n",
      "score        19.0\n",
      "attempts        1\n",
      "qualify      True\n",
      "age            15\n",
      "Name: j, dtype: object\n",
      "---------------------------------------------\n"
     ]
    }
   ],
   "source": [
    "#  Write a Python program to iterate over rows in a DataFrame. \n",
    "\n",
    "for i in range(10):\n",
    "    print(dataFrame.iloc[i])\n",
    "    print('---------------------------------------------')"
   ]
  },
  {
   "cell_type": "code",
   "execution_count": 92,
   "metadata": {},
   "outputs": [
    {
     "name": "stdout",
     "output_type": "stream",
     "text": [
      "List of column headers\n",
      "['name', 'score', 'attempts', 'qualify', 'age']\n"
     ]
    }
   ],
   "source": [
    "# Write a Python program to get list from DataFrame column headers. \n",
    "\n",
    "print(\"List of column headers\")\n",
    "print(list(dataFrame.columns))"
   ]
  }
 ],
 "metadata": {
  "kernelspec": {
   "display_name": "Python 3",
   "language": "python",
   "name": "python3"
  },
  "language_info": {
   "codemirror_mode": {
    "name": "ipython",
    "version": 3
   },
   "file_extension": ".py",
   "mimetype": "text/x-python",
   "name": "python",
   "nbconvert_exporter": "python",
   "pygments_lexer": "ipython3",
   "version": "3.13.0"
  }
 },
 "nbformat": 4,
 "nbformat_minor": 2
}
